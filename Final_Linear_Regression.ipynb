{
  "nbformat": 4,
  "nbformat_minor": 0,
  "metadata": {
    "colab": {
      "provenance": []
    },
    "kernelspec": {
      "name": "python3",
      "display_name": "Python 3"
    },
    "language_info": {
      "name": "python"
    }
  },
  "cells": [
    {
      "cell_type": "code",
      "execution_count": null,
      "metadata": {
        "colab": {
          "base_uri": "https://localhost:8080/"
        },
        "id": "f27a5lOHMEWI",
        "outputId": "a0c3c120-8607-4e4c-afe1-3986ef5de6ac"
      },
      "outputs": [
        {
          "output_type": "stream",
          "name": "stdout",
          "text": [
            "          CELL_KEY_H   MEAN_RSRP  INSTANCE_COUNT  CELL_AZIMUTH  Longitude_km  \\\n",
            "0       2.563472e+07 -105.200000             7.0         120.0     -0.305583   \n",
            "1       2.563472e+07  -94.570093           225.0         120.0     -0.003774   \n",
            "2       2.563472e+07  -82.573770           648.0         120.0     -0.386058   \n",
            "3       2.563472e+07 -100.000000            23.0         120.0     -0.084249   \n",
            "4       2.563472e+07 -101.000000             2.0         120.0      0.056610   \n",
            "...              ...         ...             ...           ...           ...   \n",
            "192505  4.227559e+09 -102.000000             1.0         180.0      0.475080   \n",
            "192506  4.227559e+09  -75.666667             6.0         180.0      0.072594   \n",
            "192507  4.227559e+09 -103.000000             2.0         180.0     -0.350094   \n",
            "192508  4.227559e+09  -90.000000             1.0         180.0     -0.350094   \n",
            "192509  4.227559e+09  -65.000000             1.0         180.0     -0.007881   \n",
            "\n",
            "        Latitude_km  \n",
            "0          0.289266  \n",
            "1          0.289266  \n",
            "2          0.728493  \n",
            "3          0.528915  \n",
            "4          0.369186  \n",
            "...             ...  \n",
            "192505     0.525696  \n",
            "192506     0.086469  \n",
            "192507     0.345987  \n",
            "192508     0.685314  \n",
            "192509    -0.891885  \n",
            "\n",
            "[192510 rows x 6 columns]\n"
          ]
        }
      ],
      "source": [
        "import pandas as pd\n",
        "\n",
        "# Read the dataset\n",
        "data = pd.read_csv('/content/Merged_all.csv')  # Replace '/path/to/dataset.csv' with the actual path to your dataset\n",
        "\n",
        "# Create new columns for longitude and latitude in km\n",
        "data['Longitude_km'] = data['ADJ_LONGITUDE'] * 111\n",
        "data['Latitude_km'] = data['ADJ_LATITUDE'] * 111\n",
        "\n",
        "data = data.drop(['ADJ_LONGITUDE', 'ADJ_LATITUDE'], axis=1)\n",
        "\n",
        "# Print the updated dataset\n",
        "print(data)\n"
      ]
    },
    {
      "cell_type": "markdown",
      "source": [],
      "metadata": {
        "id": "fy54q0SBpU-i"
      }
    },
    {
      "cell_type": "code",
      "source": [
        "data.to_csv('NewSample.csv', index=True)"
      ],
      "metadata": {
        "id": "zhawEu4lRC0A"
      },
      "execution_count": null,
      "outputs": []
    },
    {
      "cell_type": "code",
      "source": [
        "from sklearn.preprocessing import LabelEncoder\n",
        "\n",
        "le = LabelEncoder()\n",
        "data['CELL_KEY_H'] = data['CELL_KEY_H'].astype('category')\n",
        "# Fit and transform the label encoder on the 'CELL_KEY_H' column\n",
        "data['CELL_KEY_H'] = le.fit_transform(data['CELL_KEY_H'])\n",
        "\n",
        "# Now 'CELL_KEY_H' is a categorical variable with numerical labels"
      ],
      "metadata": {
        "id": "lq7kWjr8Cct2"
      },
      "execution_count": null,
      "outputs": []
    },
    {
      "cell_type": "code",
      "source": [
        "from sklearn.model_selection import train_test_split\n",
        "from sklearn.linear_model import LinearRegression\n",
        "\n",
        "# Load the dataset\n",
        "data = pd.read_csv('/content/NewSample.csv')\n",
        "\n",
        "# Prepare the input features (X) and target variable (y)\n",
        "X = data[['CELL_KEY_H', 'MEAN_RSRP', 'INSTANCE_COUNT', 'Longitude_km', 'Latitude_km']]\n",
        "y = data['CELL_AZIMUTH']\n",
        "\n",
        "# Split the dataset into training and testing sets\n",
        "X_train, X_test, y_train, y_test = train_test_split(X, y, test_size=0.2, random_state=42)\n",
        "\n",
        "# Create a linear regression model\n",
        "regression_model = LinearRegression()\n",
        "\n",
        "# Train the regression model\n",
        "regression_model.fit(X_train, y_train)\n",
        "\n",
        "# Evaluate the regression model\n",
        "regression_score = regression_model.score(X_test, y_test)\n",
        "print(\"Regression Model R^2 Score:\", regression_score)\n",
        "\n",
        "\n"
      ],
      "metadata": {
        "colab": {
          "base_uri": "https://localhost:8080/"
        },
        "id": "zlyKIICNXB9k",
        "outputId": "d4b5205c-29ce-4b23-b359-437f9f4258f4"
      },
      "execution_count": null,
      "outputs": [
        {
          "output_type": "stream",
          "name": "stdout",
          "text": [
            "Regression Model R^2 Score: 0.01972275787529265\n"
          ]
        }
      ]
    },
    {
      "cell_type": "code",
      "source": [
        "from sklearn.metrics import mean_squared_error, mean_absolute_error\n",
        "\n",
        "# Predict the values using the regression model\n",
        "regression_pred = regression_model.predict(X_test)\n",
        "\n",
        "# Calculate the mean squared error (MSE)\n",
        "regression_mse = mean_squared_error(y_test, regression_pred)\n",
        "\n",
        "# Calculate the root mean squared error (RMSE)\n",
        "regression_rmse = mean_squared_error(y_test, regression_pred, squared=False)\n",
        "\n",
        "# Calculate the mean absolute error (MAE)\n",
        "regression_mae = mean_absolute_error(y_test, regression_pred)\n",
        "\n",
        "print(\"Regression Model Metrics:\")\n",
        "print(\"MSE:\", regression_mse)\n",
        "print(\"RMSE:\", regression_rmse)\n",
        "print(\"MAE:\", regression_mae)\n"
      ],
      "metadata": {
        "colab": {
          "base_uri": "https://localhost:8080/"
        },
        "id": "IxnfClbdYVoe",
        "outputId": "411fe11e-36b8-4b7d-f949-6cabcd457f61"
      },
      "execution_count": null,
      "outputs": [
        {
          "output_type": "stream",
          "name": "stdout",
          "text": [
            "Regression Model Metrics:\n",
            "MSE: 8433.118871811012\n",
            "RMSE: 91.83201441660208\n",
            "MAE: 79.57268858624268\n"
          ]
        }
      ]
    },
    {
      "cell_type": "markdown",
      "source": [
        "# Leraning Curve"
      ],
      "metadata": {
        "id": "YhtlHGaYzdfX"
      }
    },
    {
      "cell_type": "code",
      "source": [
        "import numpy as np\n",
        "import matplotlib.pyplot as plt"
      ],
      "metadata": {
        "id": "h94PxMvbibUu"
      },
      "execution_count": null,
      "outputs": []
    },
    {
      "cell_type": "code",
      "source": [
        "train_errors = []\n",
        "test_errors = []"
      ],
      "metadata": {
        "id": "3D4tMm2wzR1E"
      },
      "execution_count": null,
      "outputs": []
    },
    {
      "cell_type": "code",
      "source": [
        "training_sizes = np.linspace(0.1, 1.0, 10, endpoint=True)"
      ],
      "metadata": {
        "id": "O_W5gnZDzV52"
      },
      "execution_count": null,
      "outputs": []
    },
    {
      "cell_type": "code",
      "source": [
        "for size in training_sizes:\n",
        "    # Calculate the number of samples based on the fraction of training data\n",
        "    num_samples = int(len(X_train) * size)\n",
        "\n",
        "    # Create a linear regression model\n",
        "    rf_regressor = LinearRegression()\n",
        "\n",
        "    # Fit the model to the training data\n",
        "    rf_regressor.fit(X_train[:num_samples], y_train[:num_samples])\n",
        "\n",
        "    # Predict on both training and testing data\n",
        "    y_train_pred = rf_regressor.predict(X_train)\n",
        "    y_test_pred = rf_regressor.predict(X_test)\n",
        "\n",
        "    # Calculate Mean Squared Error for training and testing data\n",
        "    train_mse = mean_squared_error(y_train, y_train_pred)\n",
        "    test_mse = mean_squared_error(y_test, y_test_pred)\n",
        "\n",
        "    # Append errors to the lists\n",
        "    train_errors.append(train_mse)\n",
        "    test_errors.append(test_mse)"
      ],
      "metadata": {
        "id": "3KMhCCfwzYj-"
      },
      "execution_count": null,
      "outputs": []
    },
    {
      "cell_type": "code",
      "source": [
        "plt.figure(figsize=(10, 6))\n",
        "plt.plot(training_sizes * len(X_train), train_errors, label='Training Error', color='blue')\n",
        "plt.plot(training_sizes * len(X_train), test_errors, label='Testing Error', color='red')\n",
        "plt.xlabel('Number of Training Samples')\n",
        "plt.ylabel('Mean Squared Error')\n",
        "plt.title('Learning Curve')\n",
        "plt.legend()\n",
        "plt.show()"
      ],
      "metadata": {
        "colab": {
          "base_uri": "https://localhost:8080/",
          "height": 564
        },
        "id": "pINHDCuyzbe6",
        "outputId": "f781ce42-52f9-4038-b95e-23cc8e910bdf"
      },
      "execution_count": null,
      "outputs": [
        {
          "output_type": "display_data",
          "data": {
            "text/plain": [
              "<Figure size 1000x600 with 1 Axes>"
            ],
            "image/png": "[encoded data removed]"
          },
          "metadata": {}
        }
      ]
    }
  ]
}